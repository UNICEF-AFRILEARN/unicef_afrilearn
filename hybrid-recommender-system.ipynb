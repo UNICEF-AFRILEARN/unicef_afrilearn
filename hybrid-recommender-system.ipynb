{
 "cells": [
  {
   "cell_type": "code",
   "execution_count": 1,
   "id": "8118ac3e",
   "metadata": {},
   "outputs": [],
   "source": [
    "import torch\n",
    "import torch.nn as nn\n",
    "import torch.nn.functional as F"
   ]
  },
  {
   "cell_type": "code",
   "execution_count": 2,
   "id": "99b329ab",
   "metadata": {},
   "outputs": [],
   "source": [
    "import pandas as pd"
   ]
  },
  {
   "cell_type": "code",
   "execution_count": 3,
   "id": "8d76efca",
   "metadata": {},
   "outputs": [],
   "source": [
    "df = pd.read_csv(\"complete_data.csv\",index_col=[0])"
   ]
  },
  {
   "cell_type": "code",
   "execution_count": 4,
   "id": "e3a54711",
   "metadata": {},
   "outputs": [
    {
     "data": {
      "text/html": [
       "<div>\n",
       "<style scoped>\n",
       "    .dataframe tbody tr th:only-of-type {\n",
       "        vertical-align: middle;\n",
       "    }\n",
       "\n",
       "    .dataframe tbody tr th {\n",
       "        vertical-align: top;\n",
       "    }\n",
       "\n",
       "    .dataframe thead th {\n",
       "        text-align: right;\n",
       "    }\n",
       "</style>\n",
       "<table border=\"1\" class=\"dataframe\">\n",
       "  <thead>\n",
       "    <tr style=\"text-align: right;\">\n",
       "      <th></th>\n",
       "      <th>lessonId</th>\n",
       "      <th>views</th>\n",
       "      <th>student_view_count</th>\n",
       "      <th>questions_count</th>\n",
       "      <th>numberOfCorrectAnswers</th>\n",
       "      <th>numberOfWrongAnswers</th>\n",
       "      <th>numberOfSkippedQuestions</th>\n",
       "      <th>score</th>\n",
       "      <th>userId</th>\n",
       "      <th>count_new</th>\n",
       "      <th>...</th>\n",
       "      <th>subject_Further Mathematics</th>\n",
       "      <th>subject_Home Economics</th>\n",
       "      <th>subject_Literature in English</th>\n",
       "      <th>subject_Mathematics</th>\n",
       "      <th>subject_Module 1 HTML for Beginners</th>\n",
       "      <th>subject_Module 2 CSS for Beginners</th>\n",
       "      <th>subject_Module 3 Javascript for Beginners</th>\n",
       "      <th>subject_Physics</th>\n",
       "      <th>subject_Social Studies</th>\n",
       "      <th>subject_Yoruba</th>\n",
       "    </tr>\n",
       "  </thead>\n",
       "  <tbody>\n",
       "    <tr>\n",
       "      <th>0</th>\n",
       "      <td>611a4e13aaba0c0016e02a21</td>\n",
       "      <td>73.0</td>\n",
       "      <td>80.0</td>\n",
       "      <td>0.0</td>\n",
       "      <td>0.0</td>\n",
       "      <td>0.0</td>\n",
       "      <td>0.0</td>\n",
       "      <td>0.0</td>\n",
       "      <td>645c07901889210014549ee3</td>\n",
       "      <td>5</td>\n",
       "      <td>...</td>\n",
       "      <td>0</td>\n",
       "      <td>0</td>\n",
       "      <td>0</td>\n",
       "      <td>0</td>\n",
       "      <td>0</td>\n",
       "      <td>0</td>\n",
       "      <td>0</td>\n",
       "      <td>0</td>\n",
       "      <td>0</td>\n",
       "      <td>1</td>\n",
       "    </tr>\n",
       "    <tr>\n",
       "      <th>1</th>\n",
       "      <td>611a53a5aaba0c0016e02a8a</td>\n",
       "      <td>3.0</td>\n",
       "      <td>6.0</td>\n",
       "      <td>0.0</td>\n",
       "      <td>0.0</td>\n",
       "      <td>0.0</td>\n",
       "      <td>0.0</td>\n",
       "      <td>0.0</td>\n",
       "      <td>645be4461889210014549a4c</td>\n",
       "      <td>4</td>\n",
       "      <td>...</td>\n",
       "      <td>0</td>\n",
       "      <td>0</td>\n",
       "      <td>0</td>\n",
       "      <td>0</td>\n",
       "      <td>0</td>\n",
       "      <td>0</td>\n",
       "      <td>0</td>\n",
       "      <td>0</td>\n",
       "      <td>0</td>\n",
       "      <td>1</td>\n",
       "    </tr>\n",
       "    <tr>\n",
       "      <th>2</th>\n",
       "      <td>611a520caaba0c0016e02a67</td>\n",
       "      <td>6.0</td>\n",
       "      <td>7.0</td>\n",
       "      <td>0.0</td>\n",
       "      <td>0.0</td>\n",
       "      <td>0.0</td>\n",
       "      <td>0.0</td>\n",
       "      <td>0.0</td>\n",
       "      <td>645be4461889210014549a4c</td>\n",
       "      <td>5</td>\n",
       "      <td>...</td>\n",
       "      <td>0</td>\n",
       "      <td>0</td>\n",
       "      <td>0</td>\n",
       "      <td>0</td>\n",
       "      <td>0</td>\n",
       "      <td>0</td>\n",
       "      <td>0</td>\n",
       "      <td>0</td>\n",
       "      <td>0</td>\n",
       "      <td>1</td>\n",
       "    </tr>\n",
       "    <tr>\n",
       "      <th>3</th>\n",
       "      <td>611a4e74aaba0c0016e02a25</td>\n",
       "      <td>23.0</td>\n",
       "      <td>27.0</td>\n",
       "      <td>0.0</td>\n",
       "      <td>0.0</td>\n",
       "      <td>0.0</td>\n",
       "      <td>0.0</td>\n",
       "      <td>0.0</td>\n",
       "      <td>645be4461889210014549a4c</td>\n",
       "      <td>10</td>\n",
       "      <td>...</td>\n",
       "      <td>0</td>\n",
       "      <td>0</td>\n",
       "      <td>0</td>\n",
       "      <td>0</td>\n",
       "      <td>0</td>\n",
       "      <td>0</td>\n",
       "      <td>0</td>\n",
       "      <td>0</td>\n",
       "      <td>0</td>\n",
       "      <td>1</td>\n",
       "    </tr>\n",
       "    <tr>\n",
       "      <th>4</th>\n",
       "      <td>611a4e13aaba0c0016e02a21</td>\n",
       "      <td>73.0</td>\n",
       "      <td>80.0</td>\n",
       "      <td>0.0</td>\n",
       "      <td>0.0</td>\n",
       "      <td>0.0</td>\n",
       "      <td>0.0</td>\n",
       "      <td>0.0</td>\n",
       "      <td>645a3d0c695c590014222ef9</td>\n",
       "      <td>9</td>\n",
       "      <td>...</td>\n",
       "      <td>0</td>\n",
       "      <td>0</td>\n",
       "      <td>0</td>\n",
       "      <td>0</td>\n",
       "      <td>0</td>\n",
       "      <td>0</td>\n",
       "      <td>0</td>\n",
       "      <td>0</td>\n",
       "      <td>0</td>\n",
       "      <td>1</td>\n",
       "    </tr>\n",
       "  </tbody>\n",
       "</table>\n",
       "<p>5 rows × 48 columns</p>\n",
       "</div>"
      ],
      "text/plain": [
       "                   lessonId  views  student_view_count  questions_count  \\\n",
       "0  611a4e13aaba0c0016e02a21   73.0                80.0              0.0   \n",
       "1  611a53a5aaba0c0016e02a8a    3.0                 6.0              0.0   \n",
       "2  611a520caaba0c0016e02a67    6.0                 7.0              0.0   \n",
       "3  611a4e74aaba0c0016e02a25   23.0                27.0              0.0   \n",
       "4  611a4e13aaba0c0016e02a21   73.0                80.0              0.0   \n",
       "\n",
       "   numberOfCorrectAnswers  numberOfWrongAnswers  numberOfSkippedQuestions  \\\n",
       "0                     0.0                   0.0                       0.0   \n",
       "1                     0.0                   0.0                       0.0   \n",
       "2                     0.0                   0.0                       0.0   \n",
       "3                     0.0                   0.0                       0.0   \n",
       "4                     0.0                   0.0                       0.0   \n",
       "\n",
       "   score                    userId  count_new  ...  \\\n",
       "0    0.0  645c07901889210014549ee3          5  ...   \n",
       "1    0.0  645be4461889210014549a4c          4  ...   \n",
       "2    0.0  645be4461889210014549a4c          5  ...   \n",
       "3    0.0  645be4461889210014549a4c         10  ...   \n",
       "4    0.0  645a3d0c695c590014222ef9          9  ...   \n",
       "\n",
       "   subject_Further Mathematics  subject_Home Economics  \\\n",
       "0                            0                       0   \n",
       "1                            0                       0   \n",
       "2                            0                       0   \n",
       "3                            0                       0   \n",
       "4                            0                       0   \n",
       "\n",
       "   subject_Literature in English  subject_Mathematics  \\\n",
       "0                              0                    0   \n",
       "1                              0                    0   \n",
       "2                              0                    0   \n",
       "3                              0                    0   \n",
       "4                              0                    0   \n",
       "\n",
       "   subject_Module 1 HTML for Beginners  subject_Module 2 CSS for Beginners  \\\n",
       "0                                    0                                   0   \n",
       "1                                    0                                   0   \n",
       "2                                    0                                   0   \n",
       "3                                    0                                   0   \n",
       "4                                    0                                   0   \n",
       "\n",
       "   subject_Module 3 Javascript for Beginners  subject_Physics  \\\n",
       "0                                          0                0   \n",
       "1                                          0                0   \n",
       "2                                          0                0   \n",
       "3                                          0                0   \n",
       "4                                          0                0   \n",
       "\n",
       "   subject_Social Studies  subject_Yoruba  \n",
       "0                       0               1  \n",
       "1                       0               1  \n",
       "2                       0               1  \n",
       "3                       0               1  \n",
       "4                       0               1  \n",
       "\n",
       "[5 rows x 48 columns]"
      ]
     },
     "execution_count": 4,
     "metadata": {},
     "output_type": "execute_result"
    }
   ],
   "source": [
    "df.head()"
   ]
  },
  {
   "cell_type": "code",
   "execution_count": 175,
   "id": "1abf2fff",
   "metadata": {},
   "outputs": [
    {
     "data": {
      "text/plain": [
       "1149"
      ]
     },
     "execution_count": 175,
     "metadata": {},
     "output_type": "execute_result"
    }
   ],
   "source": [
    "df['lessonId'].nunique()"
   ]
  },
  {
   "cell_type": "code",
   "execution_count": 6,
   "id": "68aad225",
   "metadata": {},
   "outputs": [],
   "source": [
    "data = df[['userId','lessonId','views']]"
   ]
  },
  {
   "cell_type": "code",
   "execution_count": 7,
   "id": "994c8930",
   "metadata": {},
   "outputs": [
    {
     "data": {
      "text/html": [
       "<div>\n",
       "<style scoped>\n",
       "    .dataframe tbody tr th:only-of-type {\n",
       "        vertical-align: middle;\n",
       "    }\n",
       "\n",
       "    .dataframe tbody tr th {\n",
       "        vertical-align: top;\n",
       "    }\n",
       "\n",
       "    .dataframe thead th {\n",
       "        text-align: right;\n",
       "    }\n",
       "</style>\n",
       "<table border=\"1\" class=\"dataframe\">\n",
       "  <thead>\n",
       "    <tr style=\"text-align: right;\">\n",
       "      <th></th>\n",
       "      <th>userId</th>\n",
       "      <th>lessonId</th>\n",
       "      <th>views</th>\n",
       "    </tr>\n",
       "  </thead>\n",
       "  <tbody>\n",
       "    <tr>\n",
       "      <th>0</th>\n",
       "      <td>645c07901889210014549ee3</td>\n",
       "      <td>611a4e13aaba0c0016e02a21</td>\n",
       "      <td>73.0</td>\n",
       "    </tr>\n",
       "    <tr>\n",
       "      <th>1</th>\n",
       "      <td>645be4461889210014549a4c</td>\n",
       "      <td>611a53a5aaba0c0016e02a8a</td>\n",
       "      <td>3.0</td>\n",
       "    </tr>\n",
       "    <tr>\n",
       "      <th>2</th>\n",
       "      <td>645be4461889210014549a4c</td>\n",
       "      <td>611a520caaba0c0016e02a67</td>\n",
       "      <td>6.0</td>\n",
       "    </tr>\n",
       "    <tr>\n",
       "      <th>3</th>\n",
       "      <td>645be4461889210014549a4c</td>\n",
       "      <td>611a4e74aaba0c0016e02a25</td>\n",
       "      <td>23.0</td>\n",
       "    </tr>\n",
       "    <tr>\n",
       "      <th>4</th>\n",
       "      <td>645a3d0c695c590014222ef9</td>\n",
       "      <td>611a4e13aaba0c0016e02a21</td>\n",
       "      <td>73.0</td>\n",
       "    </tr>\n",
       "    <tr>\n",
       "      <th>...</th>\n",
       "      <td>...</td>\n",
       "      <td>...</td>\n",
       "      <td>...</td>\n",
       "    </tr>\n",
       "    <tr>\n",
       "      <th>4895</th>\n",
       "      <td>60941a8a1523405f74ddb94e</td>\n",
       "      <td>6012bdcecfe09249249f7e9e</td>\n",
       "      <td>23.0</td>\n",
       "    </tr>\n",
       "    <tr>\n",
       "      <th>4896</th>\n",
       "      <td>60941a8a1523405f74ddb94e</td>\n",
       "      <td>6012bdcecfe09249249f7e9c</td>\n",
       "      <td>62.0</td>\n",
       "    </tr>\n",
       "    <tr>\n",
       "      <th>4897</th>\n",
       "      <td>60941a8a1523405f74ddb94e</td>\n",
       "      <td>6012bdcecfe09249249f7e9c</td>\n",
       "      <td>62.0</td>\n",
       "    </tr>\n",
       "    <tr>\n",
       "      <th>4898</th>\n",
       "      <td>60941a8a1523405f74ddb94e</td>\n",
       "      <td>6012bdcecfe09249249f7e9e</td>\n",
       "      <td>23.0</td>\n",
       "    </tr>\n",
       "    <tr>\n",
       "      <th>4899</th>\n",
       "      <td>60941a8a1523405f74ddb94e</td>\n",
       "      <td>6012bdcecfe09249249f7e9c</td>\n",
       "      <td>62.0</td>\n",
       "    </tr>\n",
       "  </tbody>\n",
       "</table>\n",
       "<p>4900 rows × 3 columns</p>\n",
       "</div>"
      ],
      "text/plain": [
       "                        userId                  lessonId  views\n",
       "0     645c07901889210014549ee3  611a4e13aaba0c0016e02a21   73.0\n",
       "1     645be4461889210014549a4c  611a53a5aaba0c0016e02a8a    3.0\n",
       "2     645be4461889210014549a4c  611a520caaba0c0016e02a67    6.0\n",
       "3     645be4461889210014549a4c  611a4e74aaba0c0016e02a25   23.0\n",
       "4     645a3d0c695c590014222ef9  611a4e13aaba0c0016e02a21   73.0\n",
       "...                        ...                       ...    ...\n",
       "4895  60941a8a1523405f74ddb94e  6012bdcecfe09249249f7e9e   23.0\n",
       "4896  60941a8a1523405f74ddb94e  6012bdcecfe09249249f7e9c   62.0\n",
       "4897  60941a8a1523405f74ddb94e  6012bdcecfe09249249f7e9c   62.0\n",
       "4898  60941a8a1523405f74ddb94e  6012bdcecfe09249249f7e9e   23.0\n",
       "4899  60941a8a1523405f74ddb94e  6012bdcecfe09249249f7e9c   62.0\n",
       "\n",
       "[4900 rows x 3 columns]"
      ]
     },
     "execution_count": 7,
     "metadata": {},
     "output_type": "execute_result"
    }
   ],
   "source": [
    "data"
   ]
  },
  {
   "cell_type": "code",
   "execution_count": 9,
   "id": "ad2bccbd",
   "metadata": {},
   "outputs": [],
   "source": [
    "from sklearn.model_selection import train_test_split"
   ]
  },
  {
   "cell_type": "code",
   "execution_count": 10,
   "id": "10fcf992",
   "metadata": {},
   "outputs": [],
   "source": [
    "train_data_df,validation_data_df = train_test_split(data,test_size=0.2)"
   ]
  },
  {
   "cell_type": "code",
   "execution_count": 18,
   "id": "632d82fc",
   "metadata": {},
   "outputs": [],
   "source": [
    "class MatrixFactorization(nn.Module):\n",
    "    def __init__(self, num_users, num_lessons, emb_size=10):\n",
    "        super(MatrixFactorization, self).__init__()\n",
    "        self.user_emb = nn.Embedding(num_users, emb_size)\n",
    "        self.lesson_emb = nn.Embedding(num_lessons, emb_size)\n",
    "        self.user_emb.weight.data.uniform_(0, 0.05)\n",
    "        self.lesson_emb.weight.data.uniform_(0, 0.05)\n",
    "        \n",
    "    def forward(self, u, v):\n",
    "        u = self.user_emb(u)\n",
    "        v = self.lesson_emb(v)\n",
    "        return (u*v).sum(1)  "
   ]
  },
  {
   "cell_type": "code",
   "execution_count": 13,
   "id": "ebaa1edd",
   "metadata": {},
   "outputs": [
    {
     "name": "stdout",
     "output_type": "stream",
     "text": [
      "3920 3920\n"
     ]
    }
   ],
   "source": [
    "num_users = len(train_data_df.userId)\n",
    "num_lessons = len(train_data_df)\n",
    "print(num_users, num_lessons) "
   ]
  },
  {
   "cell_type": "code",
   "execution_count": 26,
   "id": "bd8d7138",
   "metadata": {},
   "outputs": [],
   "source": [
    "train_data_df= train_data_df.reset_index(drop=True)\n",
    "validation_data_df = validation_data_df.reset_index(drop=True)"
   ]
  },
  {
   "cell_type": "code",
   "execution_count": 44,
   "id": "c1d6fe96",
   "metadata": {},
   "outputs": [],
   "source": [
    "from sklearn.preprocessing import MinMaxScaler\n",
    "import numpy as np"
   ]
  },
  {
   "cell_type": "code",
   "execution_count": 45,
   "id": "48b316d2",
   "metadata": {},
   "outputs": [],
   "source": [
    "scaler = MinMaxScaler((1,5))\n",
    "train_data_df['views']=scaler.fit_transform(np.array(train_data_df['views']).reshape(-1,1)).ravel()\n",
    "validation_data_df['views']=scaler.fit_transform(np.array(validation_data_df['views']).reshape(-1,1)).ravel()"
   ]
  },
  {
   "cell_type": "code",
   "execution_count": 34,
   "id": "a23c4a51",
   "metadata": {},
   "outputs": [],
   "source": [
    "from sklearn.preprocessing import LabelEncoder"
   ]
  },
  {
   "cell_type": "code",
   "execution_count": 35,
   "id": "c7f2d0ca",
   "metadata": {},
   "outputs": [],
   "source": [
    "le= LabelEncoder()\n",
    "train_data_df['userId']= le.fit_transform(train_data_df['userId'])\n",
    "train_data_df['lessonId']= le.fit_transform(train_data_df['lessonId'])"
   ]
  },
  {
   "cell_type": "code",
   "execution_count": 36,
   "id": "88c57972",
   "metadata": {},
   "outputs": [],
   "source": [
    "validation_data_df['userId']= le.fit_transform(validation_data_df['userId'])\n",
    "validation_data_df['lessonId']= le.fit_transform(validation_data_df['lessonId'])"
   ]
  },
  {
   "cell_type": "code",
   "execution_count": 19,
   "id": "dcd2ffb0",
   "metadata": {
    "scrolled": true
   },
   "outputs": [
    {
     "data": {
      "text/plain": [
       "MatrixFactorization(\n",
       "  (user_emb): Embedding(3920, 10)\n",
       "  (lesson_emb): Embedding(3920, 10)\n",
       ")"
      ]
     },
     "execution_count": 19,
     "metadata": {},
     "output_type": "execute_result"
    }
   ],
   "source": [
    "model = MatrixFactorization(num_users, num_lessons)\n",
    "model"
   ]
  },
  {
   "cell_type": "code",
   "execution_count": 23,
   "id": "cc01728a",
   "metadata": {},
   "outputs": [],
   "source": [
    "def train_epocs(model, epochs=10, lr=0.01, wd=0.0, unsqueeze=False):\n",
    "    optimizer = torch.optim.Adam(model.parameters(), lr=lr, weight_decay=wd)\n",
    "    model.train()\n",
    "    for i in range(epochs):\n",
    "        users = torch.LongTensor(train_data_df.userId.values) # .cuda()\n",
    "        lessons = torch.LongTensor(train_data_df.lessonId.values) #.cuda()\n",
    "        views = torch.FloatTensor(train_data_df.views.values) #.cuda()\n",
    "        if unsqueeze:\n",
    "            lessons = lessons.unsqueeze(1)\n",
    "        y_hat = model(users, lessons)\n",
    "        loss = F.mse_loss(y_hat, views)\n",
    "        train_mse.append((i, loss.item()))\n",
    "        if (i+1) % 10 == 0:\n",
    "            print(\"Iteration: %d ; error = %.4f\" % (i+1, loss.item()))\n",
    "        optimizer.zero_grad()\n",
    "        loss.backward()\n",
    "        optimizer.step()\n",
    "    test_loss(model, unsqueeze)"
   ]
  },
  {
   "cell_type": "code",
   "execution_count": 24,
   "id": "37556112",
   "metadata": {},
   "outputs": [],
   "source": [
    "def test_loss(model, unsqueeze=False):\n",
    "    model.eval()\n",
    "    users = torch.LongTensor(validation_data_df.userId.values) #.cuda()\n",
    "    lessons = torch.LongTensor(validation_data_df.lessonId.values) #.cuda()\n",
    "    views = torch.FloatTensor(validation_data_df.views.values) #.cuda()\n",
    "    if unsqueeze:\n",
    "        views = views.unsqueeze(1)\n",
    "    y_hat = model(users, lessons)\n",
    "    loss = F.mse_loss(y_hat, views)\n",
    "    print(\"test loss %.3f \" % loss.item())"
   ]
  },
  {
   "cell_type": "code",
   "execution_count": 57,
   "id": "920fe351",
   "metadata": {},
   "outputs": [
    {
     "name": "stdout",
     "output_type": "stream",
     "text": [
      "Iteration: 10 ; error = 0.0047\n",
      "Iteration: 20 ; error = 0.0004\n",
      "Iteration: 30 ; error = 0.0001\n",
      "Iteration: 40 ; error = 0.0002\n",
      "Iteration: 50 ; error = 0.0001\n",
      "Iteration: 60 ; error = 0.0000\n",
      "Iteration: 70 ; error = 0.0000\n",
      "Iteration: 80 ; error = 0.0000\n",
      "Iteration: 90 ; error = 0.0000\n",
      "Iteration: 100 ; error = 0.0000\n",
      "test loss 1.972 \n"
     ]
    }
   ],
   "source": [
    "train_mse = []\n",
    "train_epocs(model, epochs=100, lr=0.01)"
   ]
  },
  {
   "cell_type": "code",
   "execution_count": 51,
   "id": "f7aff3d2",
   "metadata": {},
   "outputs": [],
   "source": [
    "import matplotlib.pyplot as plt"
   ]
  },
  {
   "cell_type": "code",
   "execution_count": 52,
   "id": "b53418a6",
   "metadata": {},
   "outputs": [],
   "source": [
    "x = [x for x, y in train_mse]\n",
    "y = [y for x, y in train_mse]"
   ]
  },
  {
   "cell_type": "code",
   "execution_count": 53,
   "id": "3f79258c",
   "metadata": {},
   "outputs": [
    {
     "data": {
      "image/png": "[encoded data removed]",
      "text/plain": [
       "<Figure size 288x288 with 1 Axes>"
      ]
     },
     "metadata": {
      "needs_background": "light"
     },
     "output_type": "display_data"
    }
   ],
   "source": [
    "plt.figure(figsize=((4,4)))\n",
    "plt.plot(x, y)\n",
    "plt.xticks(x, x)\n",
    "plt.title(\"k = 20\")\n",
    "plt.xlabel(\"epochs\")\n",
    "plt.ylabel(\"RMSE\")\n",
    "plt.grid(axis=\"y\")"
   ]
  },
  {
   "cell_type": "code",
   "execution_count": 55,
   "id": "ba9eb4ca",
   "metadata": {},
   "outputs": [],
   "source": [
    "x = [x for x, y in train_mse]\n",
    "y = [y for x, y in train_mse]"
   ]
  },
  {
   "cell_type": "code",
   "execution_count": 56,
   "id": "ada9ebb4",
   "metadata": {},
   "outputs": [
    {
     "data": {
      "image/png": "[encoded data removed]",
      "text/plain": [
       "<Figure size 288x288 with 1 Axes>"
      ]
     },
     "metadata": {
      "needs_background": "light"
     },
     "output_type": "display_data"
    }
   ],
   "source": [
    "plt.figure(figsize=((4,4)))\n",
    "plt.plot(x, y)\n",
    "plt.xticks(x, x)\n",
    "plt.title(\"k = 50\")\n",
    "plt.xlabel(\"epochs\")\n",
    "plt.ylabel(\"RMSE\")\n",
    "plt.grid(axis=\"y\")"
   ]
  },
  {
   "cell_type": "code",
   "execution_count": 58,
   "id": "9ed7da96",
   "metadata": {},
   "outputs": [],
   "source": [
    "x = [x for x, y in train_mse]\n",
    "y = [y for x, y in train_mse]"
   ]
  },
  {
   "cell_type": "code",
   "execution_count": 59,
   "id": "549c3d73",
   "metadata": {},
   "outputs": [
    {
     "data": {
      "image/png": "[encoded data removed]",
      "text/plain": [
       "<Figure size 288x288 with 1 Axes>"
      ]
     },
     "metadata": {
      "needs_background": "light"
     },
     "output_type": "display_data"
    }
   ],
   "source": [
    "plt.figure(figsize=((4,4)))\n",
    "plt.plot(x, y)\n",
    "plt.xticks(x, x)\n",
    "plt.title(\"k = 100\")\n",
    "plt.xlabel(\"epochs\")\n",
    "plt.ylabel(\"RMSE\")\n",
    "plt.grid(axis=\"y\")"
   ]
  },
  {
   "cell_type": "code",
   "execution_count": 61,
   "id": "c8a62e18",
   "metadata": {},
   "outputs": [
    {
     "name": "stderr",
     "output_type": "stream",
     "text": [
      "C:\\Users\\aloag\\AppData\\Local\\Temp\\ipykernel_7380\\2326246968.py:1: SettingWithCopyWarning: \n",
      "A value is trying to be set on a copy of a slice from a DataFrame.\n",
      "Try using .loc[row_indexer,col_indexer] = value instead\n",
      "\n",
      "See the caveats in the documentation: https://pandas.pydata.org/pandas-docs/stable/user_guide/indexing.html#returning-a-view-versus-a-copy\n",
      "  data['lessonId'] = le.fit_transform(data['lessonId'])\n"
     ]
    }
   ],
   "source": [
    "data['lessonId'] = le.fit_transform(data['lessonId'])"
   ]
  },
  {
   "cell_type": "code",
   "execution_count": 62,
   "id": "e478a0ef",
   "metadata": {},
   "outputs": [
    {
     "name": "stdout",
     "output_type": "stream",
     "text": [
      "[1.4260730743408203, 0.6557088494300842, 0.3349047303199768, 1.7407866716384888, 0.7988539934158325, 0.452319860458374, 0.23950691521167755, 1.6200511455535889, 1.4017319679260254, 1.22890305519104, 0.13641631603240967, 0.11755409836769104, 0.1293712556362152, 0.10907803475856781, 0.6520931720733643, 0.5395483374595642, 0.9458184242248535, 0.463523805141449, 0.31200820207595825, 0.4298784136772156, 0.3666953146457672, 0.3317757844924927, 0.3496347963809967, 1.4551076889038086, 0.09981723874807358, 0.12466730922460556, 0.2328316569328308, 0.25572219491004944, 1.291282296180725, 0.3996580243110657, 0.735535204410553, 1.1575983762741089, 1.0738930702209473, 1.6398876905441284, 0.12340165674686432, 0.11592661589384079, 0.6254816055297852, 0.07589372247457504, 0.10370491445064545, 1.0852258205413818, 0.4989974796772003, 0.4984988272190094, 0.4684787392616272, 0.3534090518951416, 0.439414918422699, 0.45478034019470215, 0.48049065470695496, 0.48851361870765686, 0.5064153075218201, 0.2462935894727707, 0.2929495871067047, 1.494761347770691, 0.2395637035369873, 0.24060896039009094, 0.13101527094841003, 0.1312151700258255, 0.4148089289665222, 1.289994239807129, 0.668033242225647, 0.3745321035385132, 0.34461164474487305, 0.21377648413181305, 0.42881327867507935, 0.4179913103580475, 0.4251372516155243, 0.42498859763145447, 0.14903748035430908, 0.09928180277347565, 0.6494327187538147, 1.6005001068115234, 0.22497795522212982, 1.2469017505645752, 0.10286475718021393, 0.09014768898487091, 0.23274461925029755, 0.11847218871116638, 0.35702550411224365, 0.4934869110584259, 0.5278266668319702, 0.22302962839603424, 1.8537569046020508, 0.3568296432495117, 0.4294624328613281, 0.48929721117019653, 0.1516934633255005, 1.9027681350708008, 1.4580203294754028, 1.467667579650879, 1.2776305675506592, 0.20712558925151825, 0.23717889189720154, 0.21987928450107574, 0.24059425294399261, 0.2722984552383423, 0.3236624598503113, 1.3332178592681885, 1.43328857421875, 0.32579272985458374, 0.35861364006996155, 0.25633546710014343, 0.25489839911460876, 0.30580615997314453, 3.7191338539123535, 0.11722259968519211, 1.0711569786071777, 0.4305240511894226, 0.3655128479003906, 0.4367016851902008, 0.3290969133377075, 0.4183988869190216, 0.42112308740615845, 0.7137141227722168, 1.3705729246139526, 0.3633972406387329, 0.39872705936431885, 0.49912309646606445, 3.407848358154297, 0.3447996973991394, 0.24340622127056122, 0.12195045500993729, 0.12265761941671371, 0.10357137769460678, 1.4487287998199463, 0.6933659911155701, 0.6908327341079712, 0.47685298323631287, 0.5917437076568604, 0.4204184412956238, 0.4240359365940094, 0.6792653203010559, 0.11655724048614502, 0.2403794229030609, 0.2314799726009369, 0.11189213395118713, 0.11783479154109955, 1.5049867630004883, 0.0931834876537323, 0.4216967225074768, 0.5175496339797974, 0.46397775411605835, 1.6189260482788086, 0.39293596148490906, 0.43092384934425354, 0.4090224504470825, 1.5742839574813843, 0.5459489226341248, 0.47225943207740784, 0.4754739999771118, 0.42854243516921997, 0.45761188864707947, 0.4314675033092499, 0.46771949529647827, 0.5509698987007141, 0.5302221775054932, 0.4252203702926636, 0.09881074726581573, 0.11476464569568634, 0.10341301560401917, 0.11962045729160309, 0.09784640371799469, 0.5544747710227966, 1.4422059059143066, 0.675574779510498, 0.1371486335992813, 0.11798350512981415, 0.3146839737892151, 0.3013991117477417, 0.47903066873550415, 0.3887832760810852, 0.10236534476280212, 0.27482491731643677, 0.25496646761894226, 0.12206853926181793, 0.390934556722641, 0.4150635302066803, 0.5176211595535278, 0.2386421114206314, 0.3180934488773346, 0.2269924432039261, 0.2754071354866028, 0.3363358676433563, 0.6733265519142151, 0.10258213430643082, 0.42940467596054077, 0.42431941628456116, 0.8549598455429077, 0.4520151615142822, 0.3178795874118805, 0.3915520906448364, 1.3726633787155151, 0.49542126059532166, 0.49594196677207947, 0.4879971742630005, 0.42868325114250183, 0.40509310364723206, 0.3879460096359253, 0.08424022793769836, 0.11447636783123016, 0.24260815978050232, 0.09498600661754608, 0.34412193298339844, 0.3621595799922943, 0.4414648115634918, 0.30640271306037903, 1.4921284914016724, 0.6350212097167969, 0.13099826872348785, 0.093376025557518, 0.7986201643943787, 0.4424680173397064, 0.40080955624580383, 0.09850891679525375, 0.09063251316547394, 0.6108402609825134, 1.2077198028564453, 0.40345174074172974, 0.4056602418422699, 1.439909815788269, 0.49584680795669556, 0.22949530184268951, 0.20850397646427155, 0.21755611896514893, 0.08262285590171814, 1.2929884195327759, 0.5466053485870361, 1.4488273859024048, 0.7176687717437744, 0.7709732055664062, 0.612650454044342, 0.49339526891708374, 1.4446215629577637, 0.09333334863185883, 0.37170302867889404, 0.14632603526115417, 0.39700618386268616, 0.3367612957954407, 0.43987125158309937, 0.47922345995903015, 0.09914053976535797, 0.12833841145038605, 0.12449441105127335, 0.09140527993440628, 0.12581269443035126, 0.0492449514567852, 0.1425902247428894, 0.0859251469373703, 0.08591613918542862, 0.09189487993717194, -1.4200000762939453, 0.9000550508499146, 0.4332774579524994, 0.25209343433380127, 0.23641237616539001, 0.3709985017776489, 0.5402970910072327, 0.37355712056159973, 0.3328694999217987, 0.8028984069824219, 0.3821449279785156, 0.4293978810310364, 0.4388129711151123, 0.43539559841156006, 0.33226025104522705, 0.3758607506752014, 0.08728869259357452, 0.43505969643592834, 0.5547707080841064, 0.5586501955986023, 0.8068753480911255, 0.7586914896965027, 0.7914687395095825, 0.34888792037963867, 0.4392862319946289, 0.13282141089439392, 0.46471667289733887, 0.333152711391449, 0.3134458363056183, 0.1300981193780899, 0.1424703747034073, 0.3244345188140869, 0.39715200662612915, 0.39310789108276367, 0.4413011968135834, 0.37550634145736694, 0.4267255961894989, 0.08413081616163254, 0.9484118819236755, 0.34514471888542175, 0.12680868804454803, 0.3918822407722473, 0.681685209274292, 0.42245006561279297, 0.43775370717048645, 0.4166606366634369, 2.957127094268799, 0.159088596701622, 1.1830651760101318, 0.46439284086227417, 0.2507198452949524, 0.4435073137283325, 0.1407836526632309, 0.21469396352767944, 0.4434390366077423, 0.11948021501302719, 0.11011934280395508, 0.11436598747968674, 0.07957857847213745, 1.1683053970336914, 1.8915759325027466, 0.37444716691970825, 0.44773000478744507, 0.3959140181541443, 0.3890336751937866, 0.3469446301460266, 0.370661199092865, 0.5101151466369629, 0.7117891311645508, 0.8181295394897461, 0.3626805245876312, 0.45429664850234985, 0.4295884072780609, 0.3877086043357849, 0.3200378119945526, 0.42552441358566284, 0.41973093152046204, 0.4863142669200897, 0.3665317893028259, 0.4459794759750366, 0.4517752528190613, 0.32488685846328735, 0.4408692717552185, 0.223341703414917, 0.2595688998699188, 0.7642582654953003, 0.31375616788864136, 0.2283182144165039, 0.24699348211288452, 0.28508085012435913, 0.33558446168899536, 1.4719977378845215, 0.132328599691391, 0.25982117652893066, 0.3815886676311493, 0.7646864652633667, 0.40538838505744934, 0.13503345847129822, 0.44107407331466675, 0.39876362681388855, 1.4422023296356201, 0.2233487218618393, 0.39331260323524475, 0.32416507601737976, 0.3849286437034607, 0.4395850896835327, 0.43371495604515076, 0.4198843538761139, 0.42156779766082764, 0.45280027389526367, 0.44037365913391113, 0.47292545437812805, 0.4995328187942505, 0.46182629466056824, 0.3598746061325073, 0.3596806526184082, 0.43424731492996216, 0.4067525863647461, 0.4580620229244232, 0.4345530867576599, 0.4390672445297241, 0.48796358704566956, 0.4447825253009796, 0.5206961035728455, 0.4332762360572815, 0.3359851539134979, 0.4816019833087921, 1.5525530576705933, 0.4490896463394165, 0.43499821424484253, 0.4374223053455353, 0.38813918828964233, 1.4590648412704468, 0.09059802442789078, 0.33823078870773315, 0.41696491837501526, 1.4609336853027344, 0.11615195125341415, 0.11157965660095215, 0.11552336812019348, 0.3461219370365143, 0.15087875723838806, 0.09151321649551392, 0.4382667541503906, 0.10556633025407791, 0.36946848034858704, 0.10983742773532867, 0.15340565145015717, 0.4700087904930115, 0.13621078431606293, 0.1438276171684265, 1.4987661838531494, 0.25010958313941956, 0.41889700293540955, 0.4719593822956085, 0.3886454403400421, 0.3447655737400055, 0.42003369331359863, 0.4260237514972687, 0.4606841802597046, 0.4906670153141022, 0.5179747343063354, 0.4606475532054901, 0.4673178493976593, 0.4219886362552643, 0.5069027543067932, 0.46379101276397705, 0.5066553354263306, 1.1266329288482666, 1.570297360420227, 0.44615164399147034, 0.4298974871635437, 0.42659488320350647, 0.4387437403202057, 0.43322935700416565, 0.390752375125885, 0.4025346040725708, 0.35828161239624023, 0.3495389223098755, 0.4834594130516052, 0.3625231087207794, 0.4074469208717346, 0.34446126222610474, 0.454802006483078, 0.13006290793418884, 0.6948825120925903, 0.45237889885902405, 0.4260912537574768, 1.582766056060791, 0.4421192407608032, 1.0258302688598633, 0.40784913301467896, 0.6318767070770264, 0.1128106415271759, 0.08253007382154465, 0.3155185282230377, 0.79860520362854, 0.7348180413246155, 0.7167550325393677, 0.38617435097694397, 1.9360952377319336, 0.5873410701751709, 0.7811826467514038, 0.4343337416648865, 0.33353191614151, 0.44036006927490234, 0.6554029583930969, 1.0776277780532837, 0.6973868608474731, 0.45418378710746765, 0.4828835129737854, 0.4823480546474457, 0.42892131209373474, 0.28274664282798767, 0.5498635172843933, 1.1316771507263184, 0.6073973774909973, 0.8708255290985107, 0.4364204704761505, 0.22435948252677917, 0.42369967699050903, 0.30452942848205566, 0.35556384921073914, 0.4035595655441284, 0.3325321078300476, 0.4385334849357605, 0.4192689061164856, 1.966862678527832, 0.42852509021759033, 0.33627110719680786, 1.4903178215026855, 0.5356357097625732, 0.5118455290794373, 1.4923969507217407, 1.530727505683899, 0.7923763990402222, 0.3829529285430908, 0.13175511360168457, 0.11470816284418106, 0.1019754484295845, 0.12184058129787445, 1.451371192932129, 0.6501213312149048, 0.20884236693382263, 1.5247868299484253, 0.6415678858757019, 0.6115571856498718, 0.7454222440719604, 0.19876296818256378, 0.4500873386859894, 0.4982631802558899, 0.2951716184616089, 0.4195631444454193, 0.3487556576728821, 0.4329964220523834, 0.8436403274536133, 0.42644503712654114, 0.32399842143058777, 0.31383445858955383, 0.32887327671051025, 0.6487142443656921, 0.6086687445640564, 0.4303601384162903, 0.44777464866638184, 0.7407696843147278, 0.9536696672439575, 0.5189014673233032, 0.4391029179096222, 0.4507336914539337, 0.47826385498046875, 1.3512688875198364, 1.4378103017807007, 0.7106564044952393, 0.6219774484634399, 1.4601036310195923, 0.3067210018634796, 0.314136803150177, 0.47035500407218933, 1.4591586589813232, 0.9492743015289307, 0.4352770149707794, 0.7894535660743713, 0.22284746170043945, 0.4079500436782837, 0.27334195375442505, 0.4469744861125946, 0.4197150766849518, 0.5292052030563354, 0.12989775836467743, 0.3788478374481201, 0.4367412328720093, 0.3539923429489136, 0.4627358913421631, 0.2506912648677826, 0.3524981141090393, 0.6673046946525574, 0.4485325515270233, 0.4077886641025543, 0.43999943137168884, 0.4125121235847473, 0.6500488519668579, 0.47162866592407227, 0.9969457387924194, 0.4730186462402344, 0.43260520696640015, 0.3192172944545746, 1.1307488679885864, 0.37873631715774536, 0.8138043880462646, 0.46939951181411743, 0.49594298005104065, 0.6332354545593262, 0.7477778196334839, 1.0324400663375854, 0.9658626914024353, 0.5980134010314941, 0.22890529036521912, 0.4354587197303772, 0.5092219710350037, 0.31101730465888977, 0.5622060298919678, 0.47146186232566833, 0.3441438674926758, 0.40902864933013916, 0.45515942573547363, 0.30840814113616943, 0.41208988428115845, 0.34490588307380676, 1.1273287534713745, 0.4027096629142761, 1.2598079442977905, 0.5246568918228149, 0.43681231141090393, 0.4746261537075043, 0.4131808280944824, 0.4074588418006897, 0.47360366582870483, 0.4267939329147339, 0.41196098923683167, 0.41592612862586975, 0.3334167003631592, 0.45118507742881775, 0.415128231048584, 0.4261443018913269, 0.4897707998752594, 0.48851823806762695, 0.45356911420822144, 0.4858705997467041, 0.44295984506607056, 0.37786024808883667, 0.3811795711517334, 0.38510602712631226, 0.2458159476518631, 0.42536625266075134, 0.4258723258972168, 0.43497058749198914, 0.4283409118652344, 0.4334363341331482, 0.4540093243122101, 0.4495087265968323, 0.45652058720588684, 0.4993506073951721, 0.4541008472442627, 0.45670759677886963, 0.3080962598323822, 0.36288946866989136, 0.4266490638256073, 0.3138325810432434, 0.28668412566185, 0.2914230525493622, 0.299902081489563, 0.44204944372177124, 0.32902154326438904, 0.29658058285713196, 0.34664174914360046, 0.43311792612075806, 0.4013631045818329, 0.38512542843818665, 0.33399757742881775, 0.38017037510871887, 0.29085642099380493, 0.7733227610588074, 0.299785852432251, 0.3219989538192749, 0.41352832317352295, 0.4380055069923401, 1.065671443939209, 0.4255947470664978, 1.9709267616271973, 0.4277491569519043, 0.44437435269355774, 0.47394371032714844, 0.6714755296707153, 0.423431396484375, 0.34701573848724365, 0.4310753345489502, 0.5086953639984131, 0.4637116491794586, 0.43067076802253723, 0.3556334376335144, 0.39257311820983887, 0.46868956089019775, 0.3870438039302826, 0.3816891610622406, 0.6970271468162537, 0.6863052845001221, 0.8274704217910767, 0.7509876489639282, 0.8728154301643372, 0.8802284002304077, 0.26335275173187256, 1.5512367486953735, 0.5514847636222839, 0.7287760972976685, 0.36375656723976135, 0.23445621132850647, 0.6386730670928955, 0.44751977920532227, 0.7055768370628357, 0.941978931427002, 0.4783138632774353, 0.4355546236038208, 0.4600227475166321, 0.4175191819667816, 0.43736809492111206, 0.5258328914642334, 0.4519767761230469, 0.4319209158420563, 0.22930429875850677, 0.3657401502132416, 0.3454170227050781, 0.5175637006759644, 0.40127527713775635, 0.4680840075016022, 0.42987483739852905, 0.2891000509262085, 0.41979092359542847, 0.4990692138671875, 0.3685707449913025, 1.4664667844772339, 0.2556403875350952, 0.4333225190639496, 0.29703235626220703, 0.5021575689315796, 1.0775792598724365, 0.4406874179840088, 0.44144660234451294, 0.4489302337169647, 0.4044113755226135, 0.44319015741348267, 0.38805216550827026, 0.5984442830085754, 0.4025230407714844, 0.4187718629837036, 0.5032384395599365, 0.4666403830051422, 0.41331207752227783, 0.5588198900222778, 0.1422223150730133, 1.440394401550293, 0.7275752425193787, 0.48081111907958984, 0.47925978899002075, 0.44661426544189453, 0.41084298491477966, 0.39793264865875244, 0.3827826976776123, 0.4399406909942627, 0.44937849044799805, 0.34122663736343384, 0.33262625336647034, 0.2513425946235657, 0.3209364116191864, 0.33738580346107483, 0.4360869526863098, 0.3480578660964966, 0.4619531035423279, 0.33558300137519836, 0.35421520471572876, 0.35162344574928284, 0.12874490022659302, 0.32530754804611206, 0.45488566160202026, 0.45347583293914795, 0.3036072254180908, 0.37323904037475586, 0.4286454916000366, 0.4454376697540283, 0.4337922930717468, 0.42848700284957886, 0.42865830659866333, 0.43511807918548584, 0.4340064823627472, 0.4771769046783447, 0.4876079559326172, 0.46039244532585144, 0.5382108688354492, 0.41976118087768555, 0.42931050062179565, 0.4820958971977234, 0.43374961614608765, 0.4550594687461853, 0.4537867605686188, 0.48123008012771606, 0.4236862063407898, 0.9089435935020447, 0.5338457822799683, 0.43487340211868286, 0.4439033269882202, 1.4371459484100342, 0.6715215444564819, 0.5202252864837646, 0.48069462180137634, 0.5110766887664795, 0.2989864647388458, 0.31222325563430786, 0.42241382598876953, 0.617858350276947, 0.4194859564304352, 1.1381930112838745, 1.1513358354568481, 0.42181187868118286, 0.4223881959915161, 0.4347367286682129, 0.42479920387268066, 0.43085116147994995, 0.3481941819190979, 0.4667883515357971, 0.5147507190704346, 0.43287935853004456, 0.42771369218826294, 0.44054728746414185, 0.4289732873439789, 0.48571258783340454, 0.4377959072589874, 0.4427551031112671, 0.655217707157135, 0.9549070000648499, 0.4272030293941498, 0.43907952308654785, 0.44901078939437866, 0.4436095058917999, 0.4527356028556824, 0.4387515187263489, 0.4941862225532532, 0.3611301779747009, 0.3634033203125, 0.2645152807235718, 0.2867923378944397, 0.2920187711715698, 0.3000037372112274, 0.30234575271606445, 0.48818355798721313, 0.426496297121048, 0.42145487666130066, 0.4464111328125, 0.5162578225135803, 0.5598769783973694, 0.41520655155181885, 0.28496506810188293, 0.44351112842559814, 0.4675730764865875, 0.4245813190937042, 0.562576949596405, 0.5533621907234192, 0.4130644202232361, 0.4390995502471924, 1.106366753578186, 0.4054872393608093, 0.40990889072418213, 0.2886667251586914, 0.1309114694595337, 2.436455488204956, 0.24365893006324768, 0.43264076113700867, 0.4298902153968811, 0.4608426094055176, 0.42723262310028076, 0.42729800939559937, 0.41510748863220215, 0.3739045262336731, 0.7016297578811646, 0.3843182325363159, 0.4489021301269531, 0.3639165163040161, 0.33208051323890686, 0.4668342173099518, 0.40451669692993164, 0.2810875177383423, 0.4893396496772766, 0.3012493848800659, 0.39465686678886414, 0.45833098888397217, 0.42671525478363037, 0.43654054403305054, 0.44732919335365295, 0.41448476910591125, 0.44134145975112915, 0.4485379755496979, 0.7666519284248352, 0.4364415109157562, 0.3477027416229248, 0.3050486445426941, 0.37454354763031006, 0.4229942560195923, 0.46039581298828125, 0.42910683155059814, 0.4276501536369324, 0.41301625967025757, 0.43151354789733887, 0.4425569176673889, 0.4260117709636688, 0.4123428463935852, 0.44841480255126953, 0.46383967995643616, 0.47322216629981995, 0.43086880445480347, 0.4351581931114197, 0.43297576904296875, 0.42252933979034424, 0.4180815815925598, 0.2771835923194885, 0.4707832634449005, 0.49424776434898376, 0.3060535788536072, 0.34275001287460327, 0.4739883542060852, 0.4827122986316681, 0.37928307056427, 0.41593825817108154, 0.4833343029022217, 0.5629392862319946, 0.3232923448085785, 0.48331525921821594, 0.4493711590766907, 0.40624532103538513, 0.36915603280067444, 0.3112979531288147, 0.4465509355068207, 0.3225628137588501, 0.42191439867019653, 0.2487802505493164, 0.4096531867980957, 1.501889705657959, 0.3900109529495239, 0.4136231541633606, 0.4727523922920227, 0.37162506580352783, 0.3277056813240051, 0.40277349948883057, 0.3561680316925049, 0.4308652877807617, 0.3137136399745941, 0.4500003457069397, 0.4988832473754883, 0.5101152062416077, 0.3538641035556793, 0.3358724117279053, 0.33064621686935425, 0.25836989283561707, 0.4462657570838928, 0.33781173825263977, 0.40957221388816833, 0.2956635653972626, 0.3123285174369812, 0.3346155285835266, 0.46260154247283936, 0.35677385330200195, 0.46363523602485657, 0.35653483867645264, 0.40090787410736084, 0.44652801752090454, 0.4830071032047272, 0.4634667932987213, 0.4764126241207123, 0.4226583242416382, 0.43762627243995667, 0.4545867443084717, 0.435214102268219, 0.41574200987815857, 0.4815063774585724, 0.44864973425865173, 0.4416329860687256, 0.5135594606399536, 0.5487145185470581, 0.47601717710494995, 0.5812211036682129, 0.5485312342643738, 0.38265854120254517, 0.27729806303977966, 0.42003363370895386, 0.43281620740890503, 0.34612199664115906, 0.5250819325447083, 0.6145632863044739, 0.6691859364509583, 0.8542280197143555, 0.7611315250396729, 0.8736578226089478, 0.3923001289367676, 0.3982679843902588, 0.34278517961502075, 0.763990044593811, 0.6195653080940247, 0.30031272768974304, 0.290677011013031, 0.33039015531539917, 0.34870967268943787, 0.33440902829170227, 0.33347421884536743, 0.45356056094169617, 0.32977673411369324, 0.34471577405929565, 0.3355773091316223, 0.23561841249465942, 0.31389182806015015, 0.3752150535583496, 0.30876654386520386, 0.31802889704704285, 0.4912237524986267, 0.2945327162742615, 0.30268722772598267, 0.36209508776664734, 0.43580082058906555, 0.3791399300098419, 0.47040045261383057, 0.33298587799072266, 0.34106090664863586, 0.4258565604686737, 0.404826283454895, 0.4095221757888794, 0.3337511718273163, 0.4171898663043976, 0.32507312297821045, 0.15079447627067566, 1.7134647369384766, 0.7610918879508972, 0.7564694881439209, 0.7454944849014282, 0.7265333533287048, 0.744042694568634, 0.5190148949623108, 0.3583168387413025, 0.3391733467578888, 0.8240317106246948, 0.9481207132339478, 0.7354502081871033, 0.9611684679985046, 0.748925507068634, 0.3658905327320099, 0.5003625154495239, 0.17462822794914246, 0.44810205698013306, 0.4877111613750458, 0.46277448534965515, 0.4922843873500824, 0.45787423849105835, 0.4220277667045593, 0.426166832447052, 0.5726274251937866, 0.28563839197158813, 0.4379674196243286, 0.450869083404541, 0.42084670066833496, 0.4215981662273407, 0.43542516231536865, 0.3352118134498596, 0.46901407837867737, 0.14020206034183502, 0.44180864095687866, 0.41692861914634705, 0.4341176748275757, 0.43724876642227173, 0.4566924571990967, 0.3105909526348114, 0.33623939752578735, 0.5095853805541992, 0.41698765754699707, 0.4255317747592926, 0.42047351598739624, 0.4303308129310608, 0.30437028408050537, 0.36044710874557495, 0.3526056110858917, 0.44377702474594116, 0.4346012771129608, 0.28501197695732117, 0.42960596084594727, 0.42014485597610474, 0.4197956919670105, 0.44115331768989563, 0.46829748153686523, 0.4495924413204193, 0.3775854706764221, 0.49835801124572754, 0.5086794495582581, 0.542050302028656, 0.4644291400909424, 0.43464499711990356, 0.4292778968811035, 0.42262813448905945, 0.42827436327934265, 0.4198915362358093, 0.4610172510147095, 0.48408541083335876, 0.343082994222641, 0.3613487482070923, 0.6150813102722168, 0.453154593706131, 0.42584627866744995, 0.33159396052360535, 0.446416974067688, 0.5051739811897278, 0.3236117362976074, 0.37591752409935, 0.3192559480667114, 0.3730131983757019, 0.4971030056476593, 0.5467512011528015, 0.32388800382614136, 0.49978554248809814, 0.3708690404891968, 0.3786851465702057, 0.3021671772003174, 0.3060394823551178, 0.3210309147834778, 0.4206119179725647, 0.5256198048591614, 0.43945956230163574, 0.30583250522613525, 0.5555834770202637, 0.32632362842559814, 0.2931632399559021, 0.412693053483963, 0.41401606798171997, 0.4237966537475586, 0.2821526825428009, 0.2777360677719116, 0.43158647418022156, 0.3031235635280609, 0.5002521276473999, 0.3173840045928955, 0.533384382724762, 0.4396449625492096, 0.503478467464447, 0.41961735486984253, 0.44834256172180176, 0.3323822319507599, 0.30459338426589966, 0.3230193555355072, 0.3095218539237976, 0.5084505677223206, 0.43580350279808044, 0.42971742153167725, 0.44824013113975525, 0.3283063769340515, 0.3675428628921509, 0.5260672569274902, 0.43067502975463867, 0.38882842659950256, 0.3369700014591217, 0.8664190769195557, 0.6477023363113403, 0.24641083180904388, 0.9922735095024109, 0.8369408845901489, 0.9839584231376648, 0.5208050608634949, 1.2992016077041626, 0.6459919214248657, 1.3905707597732544, 0.09814592450857162, 0.13545390963554382, 0.40211108326911926, 0.4945889115333557, 0.45016828179359436, 0.4618612825870514, 0.47750869393348694, 0.5369274616241455, 0.4877855181694031, 0.4016084671020508, 0.4235858917236328, 0.4350510537624359, 0.44632667303085327, 1.425614833831787, 1.4266653060913086, 1.1953743696212769, 0.0641605332493782, 0.41476237773895264, 1.489394187927246, 0.6451272964477539, 0.6698685884475708, 0.6941670179367065, 0.4313367009162903, 1.4757410287857056, 0.19473829865455627, 0.33308354020118713, 0.35583585500717163, 0.4598487913608551, 0.5057418346405029, 0.9974703192710876]\n"
     ]
    }
   ],
   "source": [
    "user = torch.tensor([5])\n",
    "lesson = torch.tensor(data['lessonId'].unique().tolist())\n",
    "predictions = model(user, lesson).tolist()\n",
    "print(predictions)"
   ]
  },
  {
   "cell_type": "code",
   "execution_count": 63,
   "id": "4adcbd81",
   "metadata": {},
   "outputs": [
    {
     "data": {
      "text/plain": [
       "array([ 248,  243, 1135, ...,  294,  116,  102], dtype=int64)"
      ]
     },
     "execution_count": 63,
     "metadata": {},
     "output_type": "execute_result"
    }
   ],
   "source": [
    "predictions = np.array(predictions, dtype=np.float32)\n",
    "sortedIndices = predictions.argsort()\n",
    "sortedIndices"
   ]
  },
  {
   "cell_type": "code",
   "execution_count": 163,
   "id": "3d2448a2",
   "metadata": {},
   "outputs": [
    {
     "name": "stdout",
     "output_type": "stream",
     "text": [
      "[ 954    0 1010   13  104  745  882  964    1  977]\n"
     ]
    }
   ],
   "source": [
    "sortedIndices = predictions.argsort()\n",
    "recommended_lesson = data['lessonId'].unique()[sortedIndices][-10:][::-1]  # taking top 10\n",
    "print(recommended_lesson)"
   ]
  },
  {
   "cell_type": "code",
   "execution_count": 166,
   "id": "ffd982e5",
   "metadata": {},
   "outputs": [
    {
     "data": {
      "text/plain": [
       "array(['6012d826cfe09249249f8fda', '6012bdcecfe09249249f7e9c',\n",
       "       '6155603051b0d20016586147', '6012bdd4cfe09249249f7eba',\n",
       "       '6012c2c9cfe09249249f7fee', '6012cbd6cfe09249249f86a8',\n",
       "       '6012ccf1cfe09249249f881a', '611a4fe8aaba0c0016e02a4b',\n",
       "       '6012bdcecfe09249249f7e9e', '611a6283aaba0c0016e02b65'],\n",
       "      dtype=object)"
      ]
     },
     "execution_count": 166,
     "metadata": {},
     "output_type": "execute_result"
    }
   ],
   "source": [
    "le.inverse_transform(recommended_lesson)"
   ]
  },
  {
   "cell_type": "code",
   "execution_count": 72,
   "id": "7a8125c3",
   "metadata": {},
   "outputs": [
    {
     "data": {
      "text/plain": [
       "'6012d826cfe09249249f8fda'"
      ]
     },
     "execution_count": 72,
     "metadata": {},
     "output_type": "execute_result"
    }
   ],
   "source": [
    "recommended_lesson[0]"
   ]
  },
  {
   "cell_type": "code",
   "execution_count": 73,
   "id": "99f01510",
   "metadata": {},
   "outputs": [
    {
     "data": {
      "text/plain": [
       "958"
      ]
     },
     "execution_count": 73,
     "metadata": {},
     "output_type": "execute_result"
    }
   ],
   "source": [
    "data['lessonId']"
   ]
  },
  {
   "cell_type": "code",
   "execution_count": 162,
   "id": "6bec3952",
   "metadata": {},
   "outputs": [],
   "source": [
    "lesson_data= data[['lessonId']]"
   ]
  },
  {
   "cell_type": "code",
   "execution_count": 165,
   "id": "570f10ef",
   "metadata": {},
   "outputs": [
    {
     "data": {
      "text/plain": [
       "array([ 977,  964,  954,    0, 1010,    1,  882,  745,  104,   13])"
      ]
     },
     "execution_count": 165,
     "metadata": {},
     "output_type": "execute_result"
    }
   ],
   "source": [
    "recommendedlessons = lesson_data[lesson_data.lessonId.isin(recommended_lesson)]\n",
    "recommendedlessons = recommendedlessons.reset_index(drop=True)\n",
    "top10= recommendedlessons.rename(columns={'index':'top 10'})\n",
    "top10['lessonId'].unique()"
   ]
  },
  {
   "cell_type": "code",
   "execution_count": null,
   "id": "b5320b21",
   "metadata": {},
   "outputs": [],
   "source": []
  },
  {
   "cell_type": "markdown",
   "id": "5e59d459",
   "metadata": {},
   "source": [
    "## hybrid model"
   ]
  },
  {
   "cell_type": "code",
   "execution_count": null,
   "id": "684c06c8",
   "metadata": {},
   "outputs": [],
   "source": [
    "# hyperparameter tuning\n",
    "# emedding size"
   ]
  },
  {
   "cell_type": "code",
   "execution_count": 147,
   "id": "1157331e",
   "metadata": {},
   "outputs": [],
   "source": [
    "class NeuralNet(nn.Module):\n",
    "    def __init__(self, num_users, num_lessons, emb_size=35, n_hidden=15,n_features=45):\n",
    "        super(NeuralNet, self).__init__()\n",
    "        self.user_emb = nn.Embedding(num_users, emb_size)\n",
    "        self.lesson_emb = nn.Embedding(num_lessons, emb_size)\n",
    "        self.layer1 = nn.Linear(emb_size*2 + n_features, n_hidden)\n",
    "        self.layer2 = nn.Linear(n_hidden, 1)\n",
    "        self.drop1 = nn.Dropout(0.1)\n",
    "        \n",
    "    def forward(self, u, v):\n",
    "        user = self.user_emb(u)\n",
    "        lessons = self.lesson_emb(v[:,1])\n",
    "        features = v[:,3:]\n",
    "        x = F.relu(torch.cat([user, lessons,features], dim=1))\n",
    "        x = self.drop1(x)\n",
    "        x = F.relu(self.layer1(x))\n",
    "        x = self.layer2(x)\n",
    "        return x"
   ]
  },
  {
   "cell_type": "code",
   "execution_count": 148,
   "id": "db75ee14",
   "metadata": {},
   "outputs": [],
   "source": [
    "def train_epocs_hybrid(model, epochs=10, lr=0.01, wd=0.0, unsqueeze=False):\n",
    "    optimizer = torch.optim.Adam(model.parameters(), lr=lr, weight_decay=wd)\n",
    "    model.train()\n",
    "    for i in range(epochs):\n",
    "        users = torch.LongTensor(train_df.userId.values) # .cuda()\n",
    "        lessons = torch.LongTensor(train_df.values) #.cuda()\n",
    "        views = torch.FloatTensor(train_df.views.values) #.cuda()\n",
    "        if unsqueeze:\n",
    "            views = views.unsqueeze(1)\n",
    "        y_hat = model(users, lessons)\n",
    "        loss = F.mse_loss(y_hat, views)\n",
    "        train_mse_hybrid.append((i, loss.item()))\n",
    "        if (i+1) % 10 == 0:\n",
    "            print(\"Iteration: %d ; error = %.4f\" % (i+1, loss.item()))\n",
    "        optimizer.zero_grad()\n",
    "        loss.backward()\n",
    "        optimizer.step()\n",
    "    test_loss_hybrid(model, unsqueeze)"
   ]
  },
  {
   "cell_type": "code",
   "execution_count": 149,
   "id": "e3072581",
   "metadata": {},
   "outputs": [],
   "source": [
    "def test_loss_hybrid(model, unsqueeze=False):\n",
    "    model.eval()\n",
    "    users = torch.LongTensor(validation_df.userId.values) #.cuda()\n",
    "    lessons = torch.LongTensor(validation_df.values) #.cuda()\n",
    "    views = torch.FloatTensor(validation_df.views.values) #.cuda()\n",
    "    if unsqueeze:\n",
    "        views = views.unsqueeze(1)\n",
    "    y_hat = model(users, lessons)\n",
    "    loss = F.mse_loss(y_hat, views)\n",
    "    print(\"test loss %.3f \" % loss.item())"
   ]
  },
  {
   "cell_type": "code",
   "execution_count": 97,
   "id": "be8ebb1d",
   "metadata": {},
   "outputs": [],
   "source": [
    "data['userId'] = le.fit_transform(data['userId'])\n",
    "data['lessonId'] = le.fit_transform(data['lessonId'])"
   ]
  },
  {
   "cell_type": "code",
   "execution_count": 99,
   "id": "080db8ca",
   "metadata": {},
   "outputs": [],
   "source": [
    "train_df,validation_df = train_test_split(data,test_size=0.2)"
   ]
  },
  {
   "cell_type": "code",
   "execution_count": 100,
   "id": "f1f9d7af",
   "metadata": {},
   "outputs": [
    {
     "name": "stdout",
     "output_type": "stream",
     "text": [
      "3920 3920\n"
     ]
    }
   ],
   "source": [
    "num_users = len(train_df.userId)\n",
    "num_lessons = len(train_df)\n",
    "print(num_users, num_lessons) "
   ]
  },
  {
   "cell_type": "code",
   "execution_count": 150,
   "id": "2453163e",
   "metadata": {},
   "outputs": [
    {
     "data": {
      "text/plain": [
       "NeuralNet(\n",
       "  (user_emb): Embedding(3920, 35)\n",
       "  (lesson_emb): Embedding(3920, 35)\n",
       "  (layer1): Linear(in_features=115, out_features=15, bias=True)\n",
       "  (layer2): Linear(in_features=15, out_features=1, bias=True)\n",
       "  (drop1): Dropout(p=0.1, inplace=False)\n",
       ")"
      ]
     },
     "execution_count": 150,
     "metadata": {},
     "output_type": "execute_result"
    }
   ],
   "source": [
    "model = NeuralNet(num_users, num_lessons, emb_size=35)\n",
    "model"
   ]
  },
  {
   "cell_type": "code",
   "execution_count": 151,
   "id": "d63a4d5d",
   "metadata": {},
   "outputs": [
    {
     "name": "stdout",
     "output_type": "stream",
     "text": [
      "Iteration: 10 ; error = 324.0981\n",
      "test loss 276.448 \n"
     ]
    }
   ],
   "source": [
    "train_mse_hybrid=[]\n",
    "train_epocs_hybrid(model,unsqueeze=True)"
   ]
  },
  {
   "cell_type": "code",
   "execution_count": 152,
   "id": "37ad1af2",
   "metadata": {},
   "outputs": [],
   "source": [
    "x = [x for x, y in train_mse_hybrid]\n",
    "y = [y for x, y in train_mse_hybrid]"
   ]
  },
  {
   "cell_type": "code",
   "execution_count": 153,
   "id": "83480e35",
   "metadata": {},
   "outputs": [
    {
     "data": {
      "image/png": "[encoded data removed]",
      "text/plain": [
       "<Figure size 288x288 with 1 Axes>"
      ]
     },
     "metadata": {
      "needs_background": "light"
     },
     "output_type": "display_data"
    }
   ],
   "source": [
    "plt.figure(figsize=((4,4)))\n",
    "plt.plot(x, y)\n",
    "plt.xticks(x, x)\n",
    "plt.title(\"k = 10\")\n",
    "plt.xlabel(\"epochs\")\n",
    "plt.ylabel(\"RMSE\")\n",
    "plt.grid(axis=\"y\")"
   ]
  },
  {
   "cell_type": "code",
   "execution_count": 155,
   "id": "e01b8482",
   "metadata": {},
   "outputs": [
    {
     "name": "stdout",
     "output_type": "stream",
     "text": [
      "Iteration: 10 ; error = 167.0545\n",
      "Iteration: 20 ; error = 124.7939\n",
      "Iteration: 30 ; error = 72.5527\n",
      "Iteration: 40 ; error = 73.7700\n",
      "Iteration: 50 ; error = 48.6317\n",
      "Iteration: 60 ; error = 49.5932\n",
      "Iteration: 70 ; error = 44.0341\n",
      "Iteration: 80 ; error = 27.2118\n",
      "Iteration: 90 ; error = 29.8484\n",
      "Iteration: 100 ; error = 19.2198\n",
      "test loss 14.380 \n"
     ]
    }
   ],
   "source": [
    "train_mse_hybrid=[]\n",
    "train_epocs_hybrid(model,epochs = 100,unsqueeze=True)"
   ]
  },
  {
   "cell_type": "code",
   "execution_count": 156,
   "id": "5f2ae4a7",
   "metadata": {},
   "outputs": [],
   "source": [
    "def plot_loss(train_mse_hybrid,title):\n",
    "    x = [x for x, y in train_mse_hybrid]\n",
    "    y = [y for x, y in train_mse_hybrid]\n",
    "    plt.figure(figsize=((4,4)))\n",
    "    plt.plot(x, y)\n",
    "    plt.xticks(x, x)\n",
    "    plt.title(title)\n",
    "    plt.xlabel(\"epochs\")\n",
    "    plt.ylabel(\"RMSE\")\n",
    "    plt.grid(axis=\"y\")"
   ]
  },
  {
   "cell_type": "code",
   "execution_count": 157,
   "id": "0030f333",
   "metadata": {},
   "outputs": [
    {
     "data": {
      "image/png": "[encoded data removed]",
      "text/plain": [
       "<Figure size 288x288 with 1 Axes>"
      ]
     },
     "metadata": {
      "needs_background": "light"
     },
     "output_type": "display_data"
    }
   ],
   "source": [
    "plot_loss(train_mse_hybrid,\"k=100\")"
   ]
  },
  {
   "cell_type": "code",
   "execution_count": 158,
   "id": "fddd04f8",
   "metadata": {},
   "outputs": [
    {
     "name": "stdout",
     "output_type": "stream",
     "text": [
      "Iteration: 10 ; error = 18.9886\n",
      "Iteration: 20 ; error = 12.1607\n",
      "Iteration: 30 ; error = 12.3673\n",
      "Iteration: 40 ; error = 9.2038\n",
      "Iteration: 50 ; error = 7.6395\n",
      "Iteration: 60 ; error = 7.4034\n",
      "Iteration: 70 ; error = 7.1088\n",
      "Iteration: 80 ; error = 5.4667\n",
      "Iteration: 90 ; error = 5.5133\n",
      "Iteration: 100 ; error = 5.0023\n",
      "Iteration: 110 ; error = 5.3008\n",
      "Iteration: 120 ; error = 4.2764\n",
      "Iteration: 130 ; error = 5.0927\n",
      "Iteration: 140 ; error = 3.4334\n",
      "Iteration: 150 ; error = 3.8940\n",
      "Iteration: 160 ; error = 3.1032\n",
      "Iteration: 170 ; error = 3.2044\n",
      "Iteration: 180 ; error = 3.4670\n",
      "Iteration: 190 ; error = 2.8907\n",
      "Iteration: 200 ; error = 2.7054\n",
      "test loss 18.257 \n"
     ]
    }
   ],
   "source": [
    "train_mse_hybrid=[]\n",
    "train_epocs_hybrid(model,epochs = 200,unsqueeze=True)"
   ]
  },
  {
   "cell_type": "code",
   "execution_count": 159,
   "id": "2a5f44cd",
   "metadata": {},
   "outputs": [
    {
     "name": "stdout",
     "output_type": "stream",
     "text": [
      "Iteration: 10 ; error = 2.6690\n",
      "Iteration: 20 ; error = 2.5157\n",
      "Iteration: 30 ; error = 2.5228\n",
      "Iteration: 40 ; error = 2.6621\n",
      "Iteration: 50 ; error = 2.2768\n",
      "Iteration: 60 ; error = 2.2018\n",
      "Iteration: 70 ; error = 2.1639\n",
      "Iteration: 80 ; error = 1.9935\n",
      "Iteration: 90 ; error = 2.1566\n",
      "Iteration: 100 ; error = 2.0293\n",
      "Iteration: 110 ; error = 2.0192\n",
      "Iteration: 120 ; error = 1.9501\n",
      "Iteration: 130 ; error = 1.5531\n",
      "Iteration: 140 ; error = 1.4212\n",
      "Iteration: 150 ; error = 1.6364\n",
      "Iteration: 160 ; error = 1.4423\n",
      "Iteration: 170 ; error = 1.4982\n",
      "Iteration: 180 ; error = 1.3904\n",
      "Iteration: 190 ; error = 1.1571\n",
      "Iteration: 200 ; error = 1.2560\n",
      "Iteration: 210 ; error = 1.1257\n",
      "Iteration: 220 ; error = 1.1204\n",
      "Iteration: 230 ; error = 1.2553\n",
      "Iteration: 240 ; error = 0.9709\n",
      "Iteration: 250 ; error = 0.9274\n",
      "Iteration: 260 ; error = 0.9413\n",
      "Iteration: 270 ; error = 1.4056\n",
      "Iteration: 280 ; error = 1.0363\n",
      "Iteration: 290 ; error = 1.1523\n",
      "Iteration: 300 ; error = 0.6528\n",
      "test loss 15.968 \n"
     ]
    }
   ],
   "source": [
    "train_mse_hybrid=[]\n",
    "train_epocs_hybrid(model,epochs = 300,unsqueeze=True)"
   ]
  },
  {
   "cell_type": "code",
   "execution_count": 160,
   "id": "fea82113",
   "metadata": {},
   "outputs": [
    {
     "name": "stdout",
     "output_type": "stream",
     "text": [
      "Iteration: 10 ; error = 2.4818\n",
      "Iteration: 20 ; error = 0.9671\n",
      "Iteration: 30 ; error = 1.0271\n",
      "Iteration: 40 ; error = 1.0010\n",
      "Iteration: 50 ; error = 0.8041\n",
      "Iteration: 60 ; error = 0.7457\n",
      "Iteration: 70 ; error = 0.8286\n",
      "Iteration: 80 ; error = 0.7043\n",
      "Iteration: 90 ; error = 0.9807\n",
      "Iteration: 100 ; error = 0.8545\n",
      "Iteration: 110 ; error = 0.7584\n",
      "Iteration: 120 ; error = 0.7585\n",
      "Iteration: 130 ; error = 0.6789\n",
      "Iteration: 140 ; error = 0.9045\n",
      "Iteration: 150 ; error = 0.6486\n",
      "Iteration: 160 ; error = 0.7710\n",
      "Iteration: 170 ; error = 0.8567\n",
      "Iteration: 180 ; error = 0.7175\n",
      "Iteration: 190 ; error = 0.6112\n",
      "Iteration: 200 ; error = 0.7399\n",
      "Iteration: 210 ; error = 0.6186\n",
      "Iteration: 220 ; error = 0.5872\n",
      "Iteration: 230 ; error = 0.8299\n",
      "Iteration: 240 ; error = 0.7265\n",
      "Iteration: 250 ; error = 0.5093\n",
      "Iteration: 260 ; error = 0.6117\n",
      "Iteration: 270 ; error = 0.7210\n",
      "Iteration: 280 ; error = 0.6360\n",
      "Iteration: 290 ; error = 0.8660\n",
      "Iteration: 300 ; error = 0.6905\n",
      "Iteration: 310 ; error = 0.6398\n",
      "Iteration: 320 ; error = 0.5952\n",
      "Iteration: 330 ; error = 0.8746\n",
      "Iteration: 340 ; error = 0.5267\n",
      "Iteration: 350 ; error = 0.6766\n",
      "Iteration: 360 ; error = 0.4797\n",
      "Iteration: 370 ; error = 0.6568\n",
      "Iteration: 380 ; error = 0.6414\n",
      "Iteration: 390 ; error = 0.6892\n",
      "Iteration: 400 ; error = 0.6746\n",
      "test loss 13.825 \n"
     ]
    }
   ],
   "source": [
    "train_mse_hybrid=[]\n",
    "train_epocs_hybrid(model,epochs = 400,unsqueeze=True)"
   ]
  },
  {
   "cell_type": "code",
   "execution_count": 161,
   "id": "d6ca94eb",
   "metadata": {},
   "outputs": [
    {
     "name": "stdout",
     "output_type": "stream",
     "text": [
      "Iteration: 10 ; error = 2.3201\n",
      "Iteration: 20 ; error = 0.8110\n",
      "Iteration: 30 ; error = 0.9026\n",
      "Iteration: 40 ; error = 0.6436\n",
      "Iteration: 50 ; error = 0.5308\n",
      "Iteration: 60 ; error = 0.4055\n",
      "Iteration: 70 ; error = 1.0266\n",
      "Iteration: 80 ; error = 0.4161\n",
      "Iteration: 90 ; error = 0.6675\n",
      "Iteration: 100 ; error = 0.5305\n",
      "Iteration: 110 ; error = 0.6435\n",
      "Iteration: 120 ; error = 0.6380\n",
      "Iteration: 130 ; error = 0.5409\n",
      "Iteration: 140 ; error = 0.5402\n",
      "Iteration: 150 ; error = 0.4741\n",
      "Iteration: 160 ; error = 0.8099\n",
      "Iteration: 170 ; error = 0.6024\n",
      "Iteration: 180 ; error = 0.6015\n",
      "Iteration: 190 ; error = 0.5859\n",
      "Iteration: 200 ; error = 0.9304\n",
      "Iteration: 210 ; error = 0.5159\n",
      "Iteration: 220 ; error = 0.4514\n",
      "Iteration: 230 ; error = 0.5673\n",
      "Iteration: 240 ; error = 0.5000\n",
      "Iteration: 250 ; error = 0.4802\n",
      "Iteration: 260 ; error = 0.5529\n",
      "Iteration: 270 ; error = 0.4961\n",
      "Iteration: 280 ; error = 0.5930\n",
      "Iteration: 290 ; error = 0.5414\n",
      "Iteration: 300 ; error = 0.5274\n",
      "Iteration: 310 ; error = 0.6850\n",
      "Iteration: 320 ; error = 0.4465\n",
      "Iteration: 330 ; error = 0.4521\n",
      "Iteration: 340 ; error = 0.4408\n",
      "Iteration: 350 ; error = 0.6858\n",
      "Iteration: 360 ; error = 0.5317\n",
      "Iteration: 370 ; error = 0.6377\n",
      "Iteration: 380 ; error = 0.4958\n",
      "Iteration: 390 ; error = 0.3810\n",
      "Iteration: 400 ; error = 0.6152\n",
      "Iteration: 410 ; error = 0.7272\n",
      "Iteration: 420 ; error = 0.3865\n",
      "Iteration: 430 ; error = 0.4715\n",
      "Iteration: 440 ; error = 0.4614\n",
      "Iteration: 450 ; error = 0.4331\n",
      "Iteration: 460 ; error = 0.6795\n",
      "Iteration: 470 ; error = 0.5034\n",
      "Iteration: 480 ; error = 0.5372\n",
      "Iteration: 490 ; error = 0.5908\n",
      "Iteration: 500 ; error = 0.5978\n",
      "test loss 13.324 \n"
     ]
    }
   ],
   "source": [
    "train_mse_hybrid=[]\n",
    "train_epocs_hybrid(model,epochs = 500,unsqueeze=True)"
   ]
  },
  {
   "cell_type": "code",
   "execution_count": 170,
   "id": "66629a9b",
   "metadata": {},
   "outputs": [
    {
     "data": {
      "image/png": "[encoded data removed]",
      "text/plain": [
       "<Figure size 288x288 with 1 Axes>"
      ]
     },
     "metadata": {
      "needs_background": "light"
     },
     "output_type": "display_data"
    }
   ],
   "source": [
    "plot_loss(train_mse_hybrid,\"k=500\")"
   ]
  },
  {
   "cell_type": "code",
   "execution_count": 168,
   "id": "ad97c315",
   "metadata": {},
   "outputs": [
    {
     "data": {
      "text/html": [
       "<div>\n",
       "<style scoped>\n",
       "    .dataframe tbody tr th:only-of-type {\n",
       "        vertical-align: middle;\n",
       "    }\n",
       "\n",
       "    .dataframe tbody tr th {\n",
       "        vertical-align: top;\n",
       "    }\n",
       "\n",
       "    .dataframe thead th {\n",
       "        text-align: right;\n",
       "    }\n",
       "</style>\n",
       "<table border=\"1\" class=\"dataframe\">\n",
       "  <thead>\n",
       "    <tr style=\"text-align: right;\">\n",
       "      <th></th>\n",
       "      <th>userId</th>\n",
       "      <th>lessonId</th>\n",
       "      <th>views</th>\n",
       "      <th>student_view_count</th>\n",
       "      <th>questions_count</th>\n",
       "      <th>numberOfCorrectAnswers</th>\n",
       "      <th>numberOfWrongAnswers</th>\n",
       "      <th>numberOfSkippedQuestions</th>\n",
       "      <th>score</th>\n",
       "      <th>count_new</th>\n",
       "      <th>...</th>\n",
       "      <th>subject_Further Mathematics</th>\n",
       "      <th>subject_Home Economics</th>\n",
       "      <th>subject_Literature in English</th>\n",
       "      <th>subject_Mathematics</th>\n",
       "      <th>subject_Module 1 HTML for Beginners</th>\n",
       "      <th>subject_Module 2 CSS for Beginners</th>\n",
       "      <th>subject_Module 3 Javascript for Beginners</th>\n",
       "      <th>subject_Physics</th>\n",
       "      <th>subject_Social Studies</th>\n",
       "      <th>subject_Yoruba</th>\n",
       "    </tr>\n",
       "  </thead>\n",
       "  <tbody>\n",
       "    <tr>\n",
       "      <th>0</th>\n",
       "      <td>757</td>\n",
       "      <td>958</td>\n",
       "      <td>73.0</td>\n",
       "      <td>80.0</td>\n",
       "      <td>0.0</td>\n",
       "      <td>0.000000</td>\n",
       "      <td>0.000000</td>\n",
       "      <td>0.000000</td>\n",
       "      <td>0.0</td>\n",
       "      <td>5</td>\n",
       "      <td>...</td>\n",
       "      <td>0</td>\n",
       "      <td>0</td>\n",
       "      <td>0</td>\n",
       "      <td>0</td>\n",
       "      <td>0</td>\n",
       "      <td>0</td>\n",
       "      <td>0</td>\n",
       "      <td>0</td>\n",
       "      <td>0</td>\n",
       "      <td>1</td>\n",
       "    </tr>\n",
       "    <tr>\n",
       "      <th>1</th>\n",
       "      <td>756</td>\n",
       "      <td>970</td>\n",
       "      <td>3.0</td>\n",
       "      <td>6.0</td>\n",
       "      <td>0.0</td>\n",
       "      <td>0.000000</td>\n",
       "      <td>0.000000</td>\n",
       "      <td>0.000000</td>\n",
       "      <td>0.0</td>\n",
       "      <td>4</td>\n",
       "      <td>...</td>\n",
       "      <td>0</td>\n",
       "      <td>0</td>\n",
       "      <td>0</td>\n",
       "      <td>0</td>\n",
       "      <td>0</td>\n",
       "      <td>0</td>\n",
       "      <td>0</td>\n",
       "      <td>0</td>\n",
       "      <td>0</td>\n",
       "      <td>1</td>\n",
       "    </tr>\n",
       "    <tr>\n",
       "      <th>2</th>\n",
       "      <td>756</td>\n",
       "      <td>968</td>\n",
       "      <td>6.0</td>\n",
       "      <td>7.0</td>\n",
       "      <td>0.0</td>\n",
       "      <td>0.000000</td>\n",
       "      <td>0.000000</td>\n",
       "      <td>0.000000</td>\n",
       "      <td>0.0</td>\n",
       "      <td>5</td>\n",
       "      <td>...</td>\n",
       "      <td>0</td>\n",
       "      <td>0</td>\n",
       "      <td>0</td>\n",
       "      <td>0</td>\n",
       "      <td>0</td>\n",
       "      <td>0</td>\n",
       "      <td>0</td>\n",
       "      <td>0</td>\n",
       "      <td>0</td>\n",
       "      <td>1</td>\n",
       "    </tr>\n",
       "    <tr>\n",
       "      <th>3</th>\n",
       "      <td>756</td>\n",
       "      <td>959</td>\n",
       "      <td>23.0</td>\n",
       "      <td>27.0</td>\n",
       "      <td>0.0</td>\n",
       "      <td>0.000000</td>\n",
       "      <td>0.000000</td>\n",
       "      <td>0.000000</td>\n",
       "      <td>0.0</td>\n",
       "      <td>10</td>\n",
       "      <td>...</td>\n",
       "      <td>0</td>\n",
       "      <td>0</td>\n",
       "      <td>0</td>\n",
       "      <td>0</td>\n",
       "      <td>0</td>\n",
       "      <td>0</td>\n",
       "      <td>0</td>\n",
       "      <td>0</td>\n",
       "      <td>0</td>\n",
       "      <td>1</td>\n",
       "    </tr>\n",
       "    <tr>\n",
       "      <th>4</th>\n",
       "      <td>755</td>\n",
       "      <td>958</td>\n",
       "      <td>73.0</td>\n",
       "      <td>80.0</td>\n",
       "      <td>0.0</td>\n",
       "      <td>0.000000</td>\n",
       "      <td>0.000000</td>\n",
       "      <td>0.000000</td>\n",
       "      <td>0.0</td>\n",
       "      <td>9</td>\n",
       "      <td>...</td>\n",
       "      <td>0</td>\n",
       "      <td>0</td>\n",
       "      <td>0</td>\n",
       "      <td>0</td>\n",
       "      <td>0</td>\n",
       "      <td>0</td>\n",
       "      <td>0</td>\n",
       "      <td>0</td>\n",
       "      <td>0</td>\n",
       "      <td>1</td>\n",
       "    </tr>\n",
       "    <tr>\n",
       "      <th>...</th>\n",
       "      <td>...</td>\n",
       "      <td>...</td>\n",
       "      <td>...</td>\n",
       "      <td>...</td>\n",
       "      <td>...</td>\n",
       "      <td>...</td>\n",
       "      <td>...</td>\n",
       "      <td>...</td>\n",
       "      <td>...</td>\n",
       "      <td>...</td>\n",
       "      <td>...</td>\n",
       "      <td>...</td>\n",
       "      <td>...</td>\n",
       "      <td>...</td>\n",
       "      <td>...</td>\n",
       "      <td>...</td>\n",
       "      <td>...</td>\n",
       "      <td>...</td>\n",
       "      <td>...</td>\n",
       "      <td>...</td>\n",
       "      <td>...</td>\n",
       "    </tr>\n",
       "    <tr>\n",
       "      <th>4895</th>\n",
       "      <td>24</td>\n",
       "      <td>1</td>\n",
       "      <td>23.0</td>\n",
       "      <td>27.0</td>\n",
       "      <td>2.0</td>\n",
       "      <td>1.333333</td>\n",
       "      <td>1.666667</td>\n",
       "      <td>0.666667</td>\n",
       "      <td>34.0</td>\n",
       "      <td>12</td>\n",
       "      <td>...</td>\n",
       "      <td>0</td>\n",
       "      <td>0</td>\n",
       "      <td>0</td>\n",
       "      <td>0</td>\n",
       "      <td>0</td>\n",
       "      <td>0</td>\n",
       "      <td>0</td>\n",
       "      <td>0</td>\n",
       "      <td>0</td>\n",
       "      <td>0</td>\n",
       "    </tr>\n",
       "    <tr>\n",
       "      <th>4896</th>\n",
       "      <td>24</td>\n",
       "      <td>0</td>\n",
       "      <td>62.0</td>\n",
       "      <td>184.0</td>\n",
       "      <td>4.0</td>\n",
       "      <td>2.200000</td>\n",
       "      <td>1.800000</td>\n",
       "      <td>0.000000</td>\n",
       "      <td>55.0</td>\n",
       "      <td>103</td>\n",
       "      <td>...</td>\n",
       "      <td>0</td>\n",
       "      <td>0</td>\n",
       "      <td>0</td>\n",
       "      <td>0</td>\n",
       "      <td>0</td>\n",
       "      <td>0</td>\n",
       "      <td>0</td>\n",
       "      <td>0</td>\n",
       "      <td>0</td>\n",
       "      <td>0</td>\n",
       "    </tr>\n",
       "    <tr>\n",
       "      <th>4897</th>\n",
       "      <td>24</td>\n",
       "      <td>0</td>\n",
       "      <td>62.0</td>\n",
       "      <td>184.0</td>\n",
       "      <td>4.0</td>\n",
       "      <td>2.200000</td>\n",
       "      <td>1.800000</td>\n",
       "      <td>0.000000</td>\n",
       "      <td>55.0</td>\n",
       "      <td>103</td>\n",
       "      <td>...</td>\n",
       "      <td>0</td>\n",
       "      <td>0</td>\n",
       "      <td>0</td>\n",
       "      <td>0</td>\n",
       "      <td>0</td>\n",
       "      <td>0</td>\n",
       "      <td>0</td>\n",
       "      <td>0</td>\n",
       "      <td>0</td>\n",
       "      <td>0</td>\n",
       "    </tr>\n",
       "    <tr>\n",
       "      <th>4898</th>\n",
       "      <td>24</td>\n",
       "      <td>1</td>\n",
       "      <td>23.0</td>\n",
       "      <td>27.0</td>\n",
       "      <td>2.0</td>\n",
       "      <td>1.333333</td>\n",
       "      <td>1.666667</td>\n",
       "      <td>0.666667</td>\n",
       "      <td>34.0</td>\n",
       "      <td>12</td>\n",
       "      <td>...</td>\n",
       "      <td>0</td>\n",
       "      <td>0</td>\n",
       "      <td>0</td>\n",
       "      <td>0</td>\n",
       "      <td>0</td>\n",
       "      <td>0</td>\n",
       "      <td>0</td>\n",
       "      <td>0</td>\n",
       "      <td>0</td>\n",
       "      <td>0</td>\n",
       "    </tr>\n",
       "    <tr>\n",
       "      <th>4899</th>\n",
       "      <td>24</td>\n",
       "      <td>0</td>\n",
       "      <td>62.0</td>\n",
       "      <td>184.0</td>\n",
       "      <td>4.0</td>\n",
       "      <td>2.200000</td>\n",
       "      <td>1.800000</td>\n",
       "      <td>0.000000</td>\n",
       "      <td>55.0</td>\n",
       "      <td>103</td>\n",
       "      <td>...</td>\n",
       "      <td>0</td>\n",
       "      <td>0</td>\n",
       "      <td>0</td>\n",
       "      <td>0</td>\n",
       "      <td>0</td>\n",
       "      <td>0</td>\n",
       "      <td>0</td>\n",
       "      <td>0</td>\n",
       "      <td>0</td>\n",
       "      <td>0</td>\n",
       "    </tr>\n",
       "  </tbody>\n",
       "</table>\n",
       "<p>4900 rows × 48 columns</p>\n",
       "</div>"
      ],
      "text/plain": [
       "      userId  lessonId  views  student_view_count  questions_count  \\\n",
       "0        757       958   73.0                80.0              0.0   \n",
       "1        756       970    3.0                 6.0              0.0   \n",
       "2        756       968    6.0                 7.0              0.0   \n",
       "3        756       959   23.0                27.0              0.0   \n",
       "4        755       958   73.0                80.0              0.0   \n",
       "...      ...       ...    ...                 ...              ...   \n",
       "4895      24         1   23.0                27.0              2.0   \n",
       "4896      24         0   62.0               184.0              4.0   \n",
       "4897      24         0   62.0               184.0              4.0   \n",
       "4898      24         1   23.0                27.0              2.0   \n",
       "4899      24         0   62.0               184.0              4.0   \n",
       "\n",
       "      numberOfCorrectAnswers  numberOfWrongAnswers  numberOfSkippedQuestions  \\\n",
       "0                   0.000000              0.000000                  0.000000   \n",
       "1                   0.000000              0.000000                  0.000000   \n",
       "2                   0.000000              0.000000                  0.000000   \n",
       "3                   0.000000              0.000000                  0.000000   \n",
       "4                   0.000000              0.000000                  0.000000   \n",
       "...                      ...                   ...                       ...   \n",
       "4895                1.333333              1.666667                  0.666667   \n",
       "4896                2.200000              1.800000                  0.000000   \n",
       "4897                2.200000              1.800000                  0.000000   \n",
       "4898                1.333333              1.666667                  0.666667   \n",
       "4899                2.200000              1.800000                  0.000000   \n",
       "\n",
       "      score  count_new  ...  subject_Further Mathematics  \\\n",
       "0       0.0          5  ...                            0   \n",
       "1       0.0          4  ...                            0   \n",
       "2       0.0          5  ...                            0   \n",
       "3       0.0         10  ...                            0   \n",
       "4       0.0          9  ...                            0   \n",
       "...     ...        ...  ...                          ...   \n",
       "4895   34.0         12  ...                            0   \n",
       "4896   55.0        103  ...                            0   \n",
       "4897   55.0        103  ...                            0   \n",
       "4898   34.0         12  ...                            0   \n",
       "4899   55.0        103  ...                            0   \n",
       "\n",
       "      subject_Home Economics  subject_Literature in English  \\\n",
       "0                          0                              0   \n",
       "1                          0                              0   \n",
       "2                          0                              0   \n",
       "3                          0                              0   \n",
       "4                          0                              0   \n",
       "...                      ...                            ...   \n",
       "4895                       0                              0   \n",
       "4896                       0                              0   \n",
       "4897                       0                              0   \n",
       "4898                       0                              0   \n",
       "4899                       0                              0   \n",
       "\n",
       "      subject_Mathematics  subject_Module 1 HTML for Beginners  \\\n",
       "0                       0                                    0   \n",
       "1                       0                                    0   \n",
       "2                       0                                    0   \n",
       "3                       0                                    0   \n",
       "4                       0                                    0   \n",
       "...                   ...                                  ...   \n",
       "4895                    0                                    0   \n",
       "4896                    0                                    0   \n",
       "4897                    0                                    0   \n",
       "4898                    0                                    0   \n",
       "4899                    0                                    0   \n",
       "\n",
       "      subject_Module 2 CSS for Beginners  \\\n",
       "0                                      0   \n",
       "1                                      0   \n",
       "2                                      0   \n",
       "3                                      0   \n",
       "4                                      0   \n",
       "...                                  ...   \n",
       "4895                                   0   \n",
       "4896                                   0   \n",
       "4897                                   0   \n",
       "4898                                   0   \n",
       "4899                                   0   \n",
       "\n",
       "      subject_Module 3 Javascript for Beginners  subject_Physics  \\\n",
       "0                                             0                0   \n",
       "1                                             0                0   \n",
       "2                                             0                0   \n",
       "3                                             0                0   \n",
       "4                                             0                0   \n",
       "...                                         ...              ...   \n",
       "4895                                          0                0   \n",
       "4896                                          0                0   \n",
       "4897                                          0                0   \n",
       "4898                                          0                0   \n",
       "4899                                          0                0   \n",
       "\n",
       "      subject_Social Studies  subject_Yoruba  \n",
       "0                          0               1  \n",
       "1                          0               1  \n",
       "2                          0               1  \n",
       "3                          0               1  \n",
       "4                          0               1  \n",
       "...                      ...             ...  \n",
       "4895                       0               0  \n",
       "4896                       0               0  \n",
       "4897                       0               0  \n",
       "4898                       0               0  \n",
       "4899                       0               0  \n",
       "\n",
       "[4900 rows x 48 columns]"
      ]
     },
     "execution_count": 168,
     "metadata": {},
     "output_type": "execute_result"
    }
   ],
   "source": [
    "data"
   ]
  },
  {
   "cell_type": "code",
   "execution_count": 169,
   "id": "ead32faa",
   "metadata": {},
   "outputs": [],
   "source": [
    "user_for_recommendation = data[data.userId == 5].to_numpy()"
   ]
  },
  {
   "cell_type": "code",
   "execution_count": 172,
   "id": "ec2a9ec6",
   "metadata": {},
   "outputs": [
    {
     "data": {
      "text/plain": [
       "array([12.300441 ,  1.1310482, 20.134256 , 20.164932 ], dtype=float32)"
      ]
     },
     "execution_count": 172,
     "metadata": {},
     "output_type": "execute_result"
    }
   ],
   "source": [
    "recommendation_values= model(torch.LongTensor(user_for_recommendation[:,0]),torch.LongTensor(user_for_recommendation)).detach().numpy().reshape(-1)\n",
    "recommendation_values"
   ]
  },
  {
   "cell_type": "code",
   "execution_count": 173,
   "id": "7221e6b0",
   "metadata": {},
   "outputs": [
    {
     "data": {
      "text/plain": [
       "array([3, 2, 0, 1], dtype=int64)"
      ]
     },
     "execution_count": 173,
     "metadata": {},
     "output_type": "execute_result"
    }
   ],
   "source": [
    "np.argsort(recommendation_values)[-10:][::-1]"
   ]
  },
  {
   "cell_type": "code",
   "execution_count": null,
   "id": "474b3897",
   "metadata": {},
   "outputs": [],
   "source": []
  }
 ],
 "metadata": {
  "kernelspec": {
   "display_name": "Python 3 (ipykernel)",
   "language": "python",
   "name": "python3"
  },
  "language_info": {
   "codemirror_mode": {
    "name": "ipython",
    "version": 3
   },
   "file_extension": ".py",
   "mimetype": "text/x-python",
   "name": "python",
   "nbconvert_exporter": "python",
   "pygments_lexer": "ipython3",
   "version": "3.9.12"
  }
 },
 "nbformat": 4,
 "nbformat_minor": 5
}
